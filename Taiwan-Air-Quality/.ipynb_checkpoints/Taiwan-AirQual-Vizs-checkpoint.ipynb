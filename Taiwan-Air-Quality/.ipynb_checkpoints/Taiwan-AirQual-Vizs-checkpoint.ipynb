{
 "cells": [
  {
   "cell_type": "code",
   "execution_count": 2,
   "id": "b1085e4a",
   "metadata": {},
   "outputs": [
    {
     "name": "stdout",
     "output_type": "stream",
     "text": [
      "0          False\n",
      "1          False\n",
      "2          False\n",
      "3          False\n",
      "4          False\n",
      "           ...  \n",
      "3083624    False\n",
      "3083625    False\n",
      "3083626    False\n",
      "3083627    False\n",
      "3083628    False\n",
      "Name: County, Length: 3083629, dtype: bool\n"
     ]
    }
   ],
   "source": [
    "import pandas as pd\n",
    "import matplotlib.pyplot as plt\n",
    "import numpy as np\n",
    "\n",
    "df = pd.read_csv(\"Taiwan-filtered.csv\", low_memory=False)\n",
    "\n",
    "mask = df['County'] == \"臺北市\"\n",
    "taipe = df[mask]\n",
    "taipe.to_csv('taipei.csv')"
   ]
  },
  {
   "cell_type": "code",
   "execution_count": null,
   "id": "d89b4773",
   "metadata": {},
   "outputs": [],
   "source": []
  }
 ],
 "metadata": {
  "kernelspec": {
   "display_name": "Python 3 (ipykernel)",
   "language": "python",
   "name": "python3"
  },
  "language_info": {
   "codemirror_mode": {
    "name": "ipython",
    "version": 3
   },
   "file_extension": ".py",
   "mimetype": "text/x-python",
   "name": "python",
   "nbconvert_exporter": "python",
   "pygments_lexer": "ipython3",
   "version": "3.9.7"
  }
 },
 "nbformat": 4,
 "nbformat_minor": 5
}
