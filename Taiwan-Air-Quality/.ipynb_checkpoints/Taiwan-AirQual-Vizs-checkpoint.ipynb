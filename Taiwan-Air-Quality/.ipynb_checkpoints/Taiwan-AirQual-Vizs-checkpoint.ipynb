{
 "cells": [
  {
   "cell_type": "code",
   "execution_count": 2,
   "id": "b1085e4a",
   "metadata": {},
   "outputs": [
    {
     "name": "stdout",
     "output_type": "stream",
     "text": [
      "<class 'pandas.core.frame.DataFrame'>\n",
      "RangeIndex: 3083629 entries, 0 to 3083628\n",
      "Data columns (total 20 columns):\n",
      " #   Column            Dtype  \n",
      "---  ------            -----  \n",
      " 0   Unnamed: 0        int64  \n",
      " 1   SiteName          object \n",
      " 2   County            object \n",
      " 3   AQI               float64\n",
      " 4   Status            object \n",
      " 5   SO2               float64\n",
      " 6   CO                object \n",
      " 7   O3                object \n",
      " 8   O3_8hr            object \n",
      " 9   PM10              object \n",
      " 10  PM2.5             object \n",
      " 11  NO2               float64\n",
      " 12  NOx               float64\n",
      " 13  NO                float64\n",
      " 14  WindSpeed         object \n",
      " 15  WindDirec         object \n",
      " 16  DataCreationDate  object \n",
      " 17  CO_8hr            object \n",
      " 18  PM2.5_AVG         float64\n",
      " 19  PM10_AVG          object \n",
      "dtypes: float64(6), int64(1), object(13)\n",
      "memory usage: 470.5+ MB\n"
     ]
    }
   ],
   "source": [
    "import pandas as pd\n",
    "import matplotlib.pyplot as plt\n",
    "import numpy as np\n",
    "\n",
    "df = pd.read_csv(\"Taiwan-filtered.csv\", low_memory=False)\n",
    "\n",
    "df.info()"
   ]
  },
  {
   "cell_type": "code",
   "execution_count": null,
   "id": "d89b4773",
   "metadata": {},
   "outputs": [],
   "source": []
  },
  {
   "cell_type": "code",
   "execution_count": null,
   "id": "fb7babd4",
   "metadata": {},
   "outputs": [],
   "source": []
  }
 ],
 "metadata": {
  "kernelspec": {
   "display_name": "Python 3 (ipykernel)",
   "language": "python",
   "name": "python3"
  },
  "language_info": {
   "codemirror_mode": {
    "name": "ipython",
    "version": 3
   },
   "file_extension": ".py",
   "mimetype": "text/x-python",
   "name": "python",
   "nbconvert_exporter": "python",
   "pygments_lexer": "ipython3",
   "version": "3.9.7"
  }
 },
 "nbformat": 4,
 "nbformat_minor": 5
}
