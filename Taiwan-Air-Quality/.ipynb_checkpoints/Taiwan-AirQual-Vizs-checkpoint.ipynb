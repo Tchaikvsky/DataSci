{
 "cells": [
  {
   "cell_type": "code",
   "execution_count": null,
   "id": "b1085e4a",
   "metadata": {},
   "outputs": [],
   "source": [
    "import pandas as pd\n",
    "import matplotlib.pyplot as plt\n",
    "import numpy as np\n",
    "import seaborn as sns\n",
    "\n",
    "df = pd.read_csv(\"Taiwan-filtered.csv\", low_memory=False)\n",
    "\n",
    "mask = df['County'] == \"臺北市\"\n",
    "taipei = df[mask]\n",
    "#taipei.to_csv('taipei.csv')"
   ]
  },
  {
   "cell_type": "code",
   "execution_count": null,
   "id": "d89b4773",
   "metadata": {},
   "outputs": [],
   "source": [
    "taipeiDf = pd.read_csv('taipei.csv')\n",
    "taipeiDf = taipeiDf[['SiteName','DataCreationDate','AQI']]\n",
    "taipeiDf[\"Date\"] = pd.to_datetime(taipeiDf[\"DataCreationDate\"], format = \"%Y-%m-%d %H:%M\")\n",
    "taipeiDf = taipeiDf.set_index(['Date'])\n",
    "#taipeiDf.drop('DataCreationDate', axis = 1)\n"
   ]
  },
  {
   "cell_type": "code",
   "execution_count": null,
   "id": "48fcbbae",
   "metadata": {},
   "outputs": [],
   "source": [
    "#Shows dataframes last time stamp recording\n",
    "taipeiDf.index.max()"
   ]
  },
  {
   "cell_type": "code",
   "execution_count": null,
   "id": "ba218a40",
   "metadata": {},
   "outputs": [],
   "source": [
    "taipeiDf[\"AQI\"].describe()\n",
    "#0 fill\n",
    "taipeiDf[\"AQI\"] = taipeiDf[\"AQI\"].fillna(0)"
   ]
  },
  {
   "cell_type": "code",
   "execution_count": null,
   "id": "c7686339",
   "metadata": {},
   "outputs": [],
   "source": [
    "displot = sns.displot(taipeiDf['AQI'])\n",
    "displot.set(xlabel='Air Quality Index', ylabel='Hours at Specified Level', title='Air Quality in Taipei')\n",
    "print(\"Skewness %f\" % taipeiDf['AQI'].skew())\n",
    "print(\"Kurtosis %f\" % taipeiDf['AQI'].kurt())"
   ]
  },
  {
   "cell_type": "code",
   "execution_count": null,
   "id": "3be9df8d",
   "metadata": {},
   "outputs": [],
   "source": []
  }
 ],
 "metadata": {
  "kernelspec": {
   "display_name": "Python 3 (ipykernel)",
   "language": "python",
   "name": "python3"
  },
  "language_info": {
   "codemirror_mode": {
    "name": "ipython",
    "version": 3
   },
   "file_extension": ".py",
   "mimetype": "text/x-python",
   "name": "python",
   "nbconvert_exporter": "python",
   "pygments_lexer": "ipython3",
   "version": "3.9.7"
  }
 },
 "nbformat": 4,
 "nbformat_minor": 5
}
