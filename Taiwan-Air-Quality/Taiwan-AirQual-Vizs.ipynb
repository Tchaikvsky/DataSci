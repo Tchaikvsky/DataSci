{
 "cells": [
  {
   "cell_type": "code",
   "execution_count": null,
   "id": "b1085e4a",
   "metadata": {},
   "outputs": [],
   "source": [
    "import pandas as pd\n",
    "import matplotlib.pyplot as plt\n",
    "import numpy as np\n",
    "\n",
    "df = pd.read_csv(\"Taiwan-filtered.csv\", low_memory=False)\n",
    "\n",
    "df.info()"
   ]
  },
  {
   "cell_type": "code",
   "execution_count": null,
   "id": "d89b4773",
   "metadata": {},
   "outputs": [],
   "source": [
    "#plt.bar(df['SiteName'], df['AQI'])\n",
    "#plt.title('AQI At Each Site')\n",
    "#plt.xlabel('Site')\n",
    "#plt.ylabel('AQI')\n",
    "#plt.show"
   ]
  },
  {
   "cell_type": "code",
   "execution_count": null,
   "id": "fb7babd4",
   "metadata": {},
   "outputs": [],
   "source": []
  }
 ],
 "metadata": {
  "kernelspec": {
   "display_name": "Python 3 (ipykernel)",
   "language": "python",
   "name": "python3"
  },
  "language_info": {
   "codemirror_mode": {
    "name": "ipython",
    "version": 3
   },
   "file_extension": ".py",
   "mimetype": "text/x-python",
   "name": "python",
   "nbconvert_exporter": "python",
   "pygments_lexer": "ipython3",
   "version": "3.9.7"
  }
 },
 "nbformat": 4,
 "nbformat_minor": 5
}
