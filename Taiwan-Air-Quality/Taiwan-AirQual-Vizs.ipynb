{
 "cells": [
  {
   "cell_type": "code",
   "execution_count": 17,
   "id": "b1085e4a",
   "metadata": {},
   "outputs": [],
   "source": [
    "import pandas as pd\n",
    "import matplotlib.pyplot as plt\n",
    "import numpy as np\n",
    "import seaborn as sns\n",
    "\n",
    "df = pd.read_csv(\"Taiwan-filtered.csv\", low_memory=False)\n",
    "\n",
    "mask = df['County'] == \"臺北市\"\n",
    "taipei = df[mask]\n",
    "#taipei.to_csv('taipei.csv')"
   ]
  },
  {
   "cell_type": "code",
   "execution_count": 18,
   "id": "d89b4773",
   "metadata": {},
   "outputs": [
    {
     "name": "stderr",
     "output_type": "stream",
     "text": [
      "/Users/rader/opt/anaconda3/lib/python3.9/site-packages/IPython/core/interactiveshell.py:3444: DtypeWarning: Columns (8,9,11,15,16) have mixed types.Specify dtype option on import or set low_memory=False.\n",
      "  exec(code_obj, self.user_global_ns, self.user_ns)\n"
     ]
    }
   ],
   "source": [
    "taipeiDf = pd.read_csv('taipei.csv' low_memory=False)\n",
    "taipeiDf = taipeiDf[['SiteName','DataCreationDate','AQI']]\n",
    "taipeiDf[\"Date\"] = pd.to_datetime(taipeiDf[\"DataCreationDate\"], format = \"%Y-%m-%d %H:%M\")\n",
    "taipeiDf = taipeiDf.set_index(['Date'])\n",
    "#taipeiDf.drop('DataCreationDate', axis = 1)\n"
   ]
  },
  {
   "cell_type": "code",
   "execution_count": 19,
   "id": "48fcbbae",
   "metadata": {},
   "outputs": [
    {
     "data": {
      "text/plain": [
       "220568"
      ]
     },
     "execution_count": 19,
     "metadata": {},
     "output_type": "execute_result"
    }
   ],
   "source": [
    "#Shows dataframes last time stamp recording\n",
    "taipeiDf.index.max()"
   ]
  },
  {
   "cell_type": "code",
   "execution_count": 20,
   "id": "ba218a40",
   "metadata": {},
   "outputs": [],
   "source": [
    "taipeiDf[\"AQI\"].describe()\n",
    "#0 fill\n",
    "taipeiDf[\"AQI\"] = taipeiDf[\"AQI\"].fillna(0)"
   ]
  },
  {
   "cell_type": "code",
   "execution_count": 21,
   "id": "c7686339",
   "metadata": {},
   "outputs": [
    {
     "name": "stdout",
     "output_type": "stream",
     "text": [
      "Skewness 1.348859\n",
      "Kurtosis 2.584058\n"
     ]
    },
    {
     "data": {
      "image/png": "[encoded data removed]",
      "text/plain": [
       "<Figure size 360x360 with 1 Axes>"
      ]
     },
     "metadata": {
      "needs_background": "light"
     },
     "output_type": "display_data"
    }
   ],
   "source": [
    "displot = sns.displot(taipeiDf['AQI'])\n",
    "displot.set(xlabel='Air Quality Index', ylabel='Hours at Specified Level', title='Air Quality in Taipei')\n",
    "print(\"Skewness %f\" % taipeiDf['AQI'].skew())\n",
    "print(\"Kurtosis %f\" % taipeiDf['AQI'].kurt())"
   ]
  },
  {
   "cell_type": "code",
   "execution_count": null,
   "id": "076cf508",
   "metadata": {},
   "outputs": [],
   "source": [
    "timeVal = sns.displot(x =taipeiDf[\"DataCreationDate\"], y= taipeiDf[\"AQI\"])"
   ]
  },
  {
   "cell_type": "code",
   "execution_count": null,
   "id": "bb3747ce",
   "metadata": {},
   "outputs": [],
   "source": []
  }
 ],
 "metadata": {
  "kernelspec": {
   "display_name": "Python 3 (ipykernel)",
   "language": "python",
   "name": "python3"
  },
  "language_info": {
   "codemirror_mode": {
    "name": "ipython",
    "version": 3
   },
   "file_extension": ".py",
   "mimetype": "text/x-python",
   "name": "python",
   "nbconvert_exporter": "python",
   "pygments_lexer": "ipython3",
   "version": "3.9.7"
  }
 },
 "nbformat": 4,
 "nbformat_minor": 5
}
