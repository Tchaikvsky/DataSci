{
 "cells": [
  {
   "cell_type": "code",
   "execution_count": null,
   "id": "71e6dbbb",
   "metadata": {},
   "outputs": [],
   "source": [
    "#This is an attempt at cleaning data with a data set on the Air Quality in Taiwan \n",
    "#around 2016\n",
    "import pandas as pd\n",
    "import numpy as np\n",
    "\n",
    "df = pd.read_csv(\"Data_Sets/TaiwanAirQuality.csv\", low_memory=False)\n",
    "\n",
    "#info method prints information about the datafram such as the columns, index, dtype, etc.\n",
    "df.info(verbose=True)\n",
    "\n",
    "df.head()\n",
    "\n",
    "#Confirm column names in Data\n",
    "df.columns"
   ]
  },
  {
   "cell_type": "code",
   "execution_count": null,
   "id": "db1efd04",
   "metadata": {},
   "outputs": [],
   "source": [
    "#Now we will drop columns that aren't necessary or do not contain enough information.\n",
    "\n",
    "\n",
    "to_drop = ['Pollutant',\n",
    "           'Unit',\n",
    "           'SO2_AVG',\n",
    "           'Longitude',\n",
    "           'Latitude',\n",
    "           'SiteId']\n",
    "\n",
    "#inplace permanently changes data so be careful\n",
    "df.drop(columns=to_drop, inplace=True)\n",
    "df.head()"
   ]
  },
  {
   "cell_type": "code",
   "execution_count": null,
   "id": "389a7242",
   "metadata": {},
   "outputs": [],
   "source": [
    "#Checks if column is unique\n",
    "#df['SiteName'].is_unique\n",
    "\n",
    "#No columns appear to be unique but will use but will use SiteName as it is probably the most unique\n",
    "#df.set_index('SiteName', inplace = True)\n",
    "#df.head()\n",
    "\n",
    "#I believe this might have been useless though as the default index was SiteName potentially\n",
    "#Actually, before the index was set Python's built-in range\n",
    "df.loc[30]"
   ]
  },
  {
   "cell_type": "markdown",
   "id": "03a95c8a",
   "metadata": {},
   "source": [
    "# Trying to access a single record\n",
    "df.loc[20]\n",
    "Seems to work \n",
    "#.loc is technically a class instance and has some special syntax that doesn't conform exactly to most plain-vanilla Python\n"
   ]
  },
  {
   "cell_type": "code",
   "execution_count": null,
   "id": "5db3b9d4",
   "metadata": {},
   "outputs": [],
   "source": []
  }
 ],
 "metadata": {
  "kernelspec": {
   "display_name": "Python 3 (ipykernel)",
   "language": "python",
   "name": "python3"
  },
  "language_info": {
   "codemirror_mode": {
    "name": "ipython",
    "version": 3
   },
   "file_extension": ".py",
   "mimetype": "text/x-python",
   "name": "python",
   "nbconvert_exporter": "python",
   "pygments_lexer": "ipython3",
   "version": "3.9.7"
  }
 },
 "nbformat": 4,
 "nbformat_minor": 5
}
